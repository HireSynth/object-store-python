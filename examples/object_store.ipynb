{
 "cells": [
  {
   "cell_type": "code",
   "execution_count": null,
   "metadata": {},
   "outputs": [],
   "source": [
    "from object_store import ObjectStore, ArrowFileSystemHandler\n",
    "import pyarrow as pa\n",
    "import pyarrow.fs as fs\n",
    "from pathlib import Path as PythonPath\n",
    "import pyarrow.parquet as pq\n",
    "import numpy as np\n",
    "\n",
    "store = fs.PyFileSystem(ArrowFileSystemHandler(\".\"))\n",
    "arrow_fs = fs.SubTreeFileSystem(str(PythonPath.cwd()), fs.LocalFileSystem())\n",
    "table = pa.table({'a': range(10), 'b': np.random.randn(10), 'c': [1, 2] * 5})\n"
   ]
  },
  {
   "cell_type": "code",
   "execution_count": null,
   "metadata": {},
   "outputs": [],
   "source": [
    "import pyarrow.dataset as ds\n",
    "import pyarrow.parquet as pq\n",
    "import numpy as np\n",
    "import pyarrow.fs as fs\n",
    "from object_store import ArrowFileSystemHandler\n",
    "from pathlib import Path as PythonPath\n",
    "import pyarrow as pa\n",
    "\n",
    "base = PythonPath.cwd()\n",
    "table = pa.table({\"a\": range(10), \"b\": np.random.randn(10), \"c\": [1, 2] * 5})\n",
    "\n",
    "store = fs.PyFileSystem(ArrowFileSystemHandler(str(base.absolute())))\n",
    "arrow_fs = fs.SubTreeFileSystem(str(base.absolute()), fs.LocalFileSystem())\n",
    "\n",
    "pq.write_table(table.slice(0, 5), \"data1.parquet\", filesystem=arrow_fs)\n",
    "pq.write_table(table.slice(5, 10), \"data2.parquet\", filesystem=arrow_fs)\n",
    "\n",
    "dataset = ds.dataset(\"/\", format=\"parquet\", filesystem=store)\n",
    "dataset.to_table()"
   ]
  }
 ],
 "metadata": {
  "kernelspec": {
   "display_name": "Python 3.10.2 ('object-stores-i82Xpuuz-py3.10')",
   "language": "python",
   "name": "python3"
  },
  "language_info": {
   "codemirror_mode": {
    "name": "ipython",
    "version": 3
   },
   "file_extension": ".py",
   "mimetype": "text/x-python",
   "name": "python",
   "nbconvert_exporter": "python",
   "pygments_lexer": "ipython3",
   "version": "3.10.2"
  },
  "orig_nbformat": 4,
  "vscode": {
   "interpreter": {
    "hash": "c690c37b5ea24e2410ebcaa8cf0641ae7e7b52f993afbde625a9678df376bef8"
   }
  }
 },
 "nbformat": 4,
 "nbformat_minor": 2
}
