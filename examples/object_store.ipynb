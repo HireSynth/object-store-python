{
 "cells": [
  {
   "cell_type": "code",
   "execution_count": null,
   "metadata": {},
   "outputs": [],
   "source": [
    "from pathlib import Path as PythonPath\n",
    "\n",
    "import numpy as np\n",
    "import pyarrow as pa\n",
    "import pyarrow.fs as fs\n",
    "import pyarrow.dataset as ds\n",
    "import pyarrow.parquet as pq\n",
    "\n",
    "from object_store import ArrowFileSystemHandler\n",
    "\n",
    "table = pa.table({\"a\": range(10), \"b\": np.random.randn(10), \"c\": [1, 2] * 5})\n",
    "\n",
    "base = PythonPath.cwd()\n",
    "store = fs.PyFileSystem(ArrowFileSystemHandler(str(base.absolute())))\n",
    "arrow_fs = fs.SubTreeFileSystem(str(base.absolute()), fs.LocalFileSystem())\n",
    "\n",
    "pq.write_table(table.slice(0, 5), \"data/data1.parquet\", filesystem=store)\n",
    "pq.write_table(table.slice(5, 10), \"data/data2.parquet\", filesystem=store)\n",
    "\n",
    "dataset = ds.dataset(\"data\", format=\"parquet\", filesystem=store)\n"
   ]
  },
  {
   "cell_type": "code",
   "execution_count": null,
   "metadata": {},
   "outputs": [],
   "source": [
    "import duckdb\n",
    "\n",
    "con = duckdb.connect()\n",
    "results = con.execute(\"SELECT * FROM dataset WHERE c = 2\").arrow()\n",
    "\n",
    "results.shape"
   ]
  },
  {
   "cell_type": "code",
   "execution_count": null,
   "metadata": {},
   "outputs": [],
   "source": [
    "visited_paths = []\n",
    "\n",
    "\n",
    "def file_visitor(written_file):\n",
    "    visited_paths.append(written_file)\n",
    "\n",
    "\n",
    "partitioning = ds.partitioning(pa.schema([(\"c\", pa.int64())]), flavor=\"hive\")\n",
    "ds.write_dataset(\n",
    "    table,\n",
    "    \"partitioned\",\n",
    "    partitioning=partitioning,\n",
    "    format=\"parquet\",\n",
    "    filesystem=store,\n",
    "    file_visitor=file_visitor,\n",
    ")\n",
    "\n",
    "len(visited_paths)\n"
   ]
  },
  {
   "cell_type": "code",
   "execution_count": null,
   "metadata": {},
   "outputs": [],
   "source": [
    "partitioning = ds.partitioning(pa.schema([(\"c\", pa.int64())]), flavor=\"hive\")\n",
    "dataset_part = ds.dataset(\"/partitioned\", format=\"parquet\", filesystem=store, partitioning=partitioning)\n",
    "dataset_part.schema\n"
   ]
  }
 ],
 "metadata": {
  "kernelspec": {
   "display_name": "Python 3.10.2 ('object-stores-i82Xpuuz-py3.10')",
   "language": "python",
   "name": "python3"
  },
  "language_info": {
   "codemirror_mode": {
    "name": "ipython",
    "version": 3
   },
   "file_extension": ".py",
   "mimetype": "text/x-python",
   "name": "python",
   "nbconvert_exporter": "python",
   "pygments_lexer": "ipython3",
   "version": "3.10.2"
  },
  "orig_nbformat": 4,
  "vscode": {
   "interpreter": {
    "hash": "c690c37b5ea24e2410ebcaa8cf0641ae7e7b52f993afbde625a9678df376bef8"
   }
  }
 },
 "nbformat": 4,
 "nbformat_minor": 2
}
