{
 "cells": [
  {
   "cell_type": "code",
   "execution_count": 4,
   "metadata": {},
   "outputs": [],
   "source": [
    "from object_store import ObjectStore\n",
    "\n",
    "options = {}\n",
    "store = ObjectStore(\".\", options=options)\n",
    "\n",
    "store.put(\"path2\", b\"data\")\n",
    "assert b\"data\" == store.get(\"path2\")\n"
   ]
  }
 ],
 "metadata": {
  "kernelspec": {
   "display_name": "Python 3.10.2 ('object-stores-i82Xpuuz-py3.10')",
   "language": "python",
   "name": "python3"
  },
  "language_info": {
   "codemirror_mode": {
    "name": "ipython",
    "version": 3
   },
   "file_extension": ".py",
   "mimetype": "text/x-python",
   "name": "python",
   "nbconvert_exporter": "python",
   "pygments_lexer": "ipython3",
   "version": "3.10.2"
  },
  "orig_nbformat": 4,
  "vscode": {
   "interpreter": {
    "hash": "c690c37b5ea24e2410ebcaa8cf0641ae7e7b52f993afbde625a9678df376bef8"
   }
  }
 },
 "nbformat": 4,
 "nbformat_minor": 2
}
